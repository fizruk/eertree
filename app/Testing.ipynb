{
 "cells": [
  {
   "attachments": {},
   "cell_type": "markdown",
   "metadata": {},
   "source": [
    "## MSUBSTR \n",
    "Given t strings, get the length of the longest palindromic substring and the number of substrings with such length.\n",
    "\n",
    "### Generate test cases:"
   ]
  },
  {
   "cell_type": "code",
   "execution_count": 2,
   "metadata": {},
   "outputs": [],
   "source": [
    "import random \n",
    "import string\n",
    "\n",
    "def generate_random_string(length):\n",
    "    return ''.join(random.choices(string.ascii_lowercase, k=length))\n",
    "\n",
    "def generate_random_palindrome(length):\n",
    "    ret = \"\"\n",
    "    half_ret = generate_random_string(length//2)\n",
    "    if(length % 2 == 1):\n",
    "        ret = half_ret + \"a\" + (half_ret[::-1])\n",
    "    else:\n",
    "        ret = half_ret + (half_ret[::-1])\n",
    "    return ret\n",
    "\n",
    "def generate_n_spaced_palindromes(n):\n",
    "    length = random.randint(1, (3000 - 2 * n) //n)\n",
    "    ret = \"\"\n",
    "    for _ in range(n):\n",
    "        sub_palindrome = generate_random_palindrome(length)\n",
    "        ret += sub_palindrome\n",
    "        ret += \"qk\" # seperator\n",
    "    return ret\n",
    "\n",
    "def generate_test_case():\n",
    "    t = random.randint(150, 200)\n",
    "    strings = []\n",
    "    for _ in range (t//2 + (t%2)):\n",
    "        strings.append(generate_random_string(random.randint(1, 3000)))\n",
    "    for _ in range (t//2):\n",
    "        # 600 is the closest hundred to satisfy (3000 - 2*n)/n > 2) \n",
    "        # Note that this can still generate a string of length 3000  \n",
    "        strings.append(generate_n_spaced_palindromes(random.randint(1, 600)))\n",
    "    \n",
    "    return t, strings\n",
    "\n",
    "# Naive solution of O(n^2) complexity to calculate the length of the\n",
    "#  longest sub-palindrome and the number of sub-palindromes with such length.\n",
    "def calculate_sub_palindrome_length(string):\n",
    "    n = len(string)\n",
    "    max_length = 0\n",
    "    count = 0\n",
    "\n",
    "    # Odd-length palindromes\n",
    "    for i in range(n):\n",
    "        l, r = i, i\n",
    "        while l >= 0 and r < n and string[l] == string[r]:\n",
    "            if r- l + 1 > max_length:\n",
    "                max_length = r - l +1\n",
    "                count = 0\n",
    "            if r - l + 1 == max_length:\n",
    "                count += 1\n",
    "            l -= 1\n",
    "            r += 1\n",
    "\n",
    "        l, r = i, i + 1\n",
    "        # Even-length palindromes\n",
    "        while l >= 0 and r < n and string[l] == string[r]:\n",
    "            if r- l + 1 > max_length:\n",
    "                max_length = r - l +1\n",
    "                count = 0\n",
    "            if r - l + 1 == max_length:\n",
    "                count += 1\n",
    "            l -= 1\n",
    "            r += 1\n",
    "\n",
    "    return f\"{max_length} {count}\""
   ]
  },
  {
   "attachments": {},
   "cell_type": "markdown",
   "metadata": {},
   "source": [
    "### Run C++ code on test cases"
   ]
  },
  {
   "cell_type": "code",
   "execution_count": 4,
   "metadata": {},
   "outputs": [
    {
     "name": "stdout",
     "output_type": "stream",
     "text": [
      "C++ program successfully executed with 189 strings\n"
     ]
    }
   ],
   "source": [
    "import subprocess\n",
    "\n",
    "command = \"cd cpp && make build && cd ..\"\n",
    "result = subprocess.run(command, shell=True, capture_output=True)\n",
    "command = \"stack install\"\n",
    "result = subprocess.run(command, shell=True, capture_output=True)\n",
    "\n",
    "t, strings = generate_test_case()\n",
    "generated_input = f\"{t}\\n\" + \"\\n\".join(strings)\n",
    "expected_output = \"\\n\".join(map(lambda string: calculate_sub_palindrome_length(string), strings))\n",
    "\n",
    "command = \"./cpp/build/msubstr\"\n",
    "result = subprocess.run(command, input=generated_input, text=True, capture_output=True)\n",
    "\n",
    "if result.returncode == 0 and result.stdout.strip() == expected_output.strip():\n",
    "    print(f\"C++ program successfully executed with {t} strings\")\n",
    "else:\n",
    "    print(f\"C++ program failed executing with {t} strings and exit code {result.returncode}\")"
   ]
  },
  {
   "attachments": {},
   "cell_type": "markdown",
   "metadata": {},
   "source": [
    "### Run haskell code on test cases"
   ]
  },
  {
   "cell_type": "code",
   "execution_count": 5,
   "metadata": {},
   "outputs": [
    {
     "name": "stdout",
     "output_type": "stream",
     "text": [
      "Haskell program successfully executed with 189 strings\n"
     ]
    }
   ],
   "source": [
    "\n",
    "### Please note that you'd need to run \"stack install\" in terminal for the executable to be accessible here.\n",
    "command = \"msubstr\"\n",
    "result = subprocess.run(command, input=generated_input, text=True, capture_output=True, shell=True)\n",
    "\n",
    "if result.returncode == 0 and result.stdout.strip() == expected_output.strip():\n",
    "    print(f\"Haskell program successfully executed with {t} strings\")\n",
    "else:\n",
    "    print(f\"Haskell program failed executing with {t} strings and exit code {result.returncode}\")\n"
   ]
  }
 ],
 "metadata": {
  "kernelspec": {
   "display_name": "Python 3",
   "language": "python",
   "name": "python3"
  },
  "language_info": {
   "codemirror_mode": {
    "name": "ipython",
    "version": 3
   },
   "file_extension": ".py",
   "mimetype": "text/x-python",
   "name": "python",
   "nbconvert_exporter": "python",
   "pygments_lexer": "ipython3",
   "version": "3.10.7"
  },
  "orig_nbformat": 4
 },
 "nbformat": 4,
 "nbformat_minor": 2
}
